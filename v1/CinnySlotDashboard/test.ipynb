{
 "cells": [
  {
   "cell_type": "code",
   "execution_count": 1,
   "id": "4091cd30",
   "metadata": {},
   "outputs": [],
   "source": [
    "from recommendation import get_recommendations  "
   ]
  },
  {
   "cell_type": "code",
   "execution_count": 2,
   "id": "83c5e88a",
   "metadata": {},
   "outputs": [],
   "source": [
    "recommendations = get_recommendations(862)"
   ]
  },
  {
   "cell_type": "code",
   "execution_count": 3,
   "id": "a958f7a3",
   "metadata": {},
   "outputs": [
    {
     "data": {
      "text/plain": [
       "list"
      ]
     },
     "execution_count": 3,
     "metadata": {},
     "output_type": "execute_result"
    }
   ],
   "source": [
    "type(recommendations)"
   ]
  },
  {
   "cell_type": "code",
   "execution_count": 5,
   "id": "b86cc402",
   "metadata": {},
   "outputs": [
    {
     "data": {
      "text/plain": [
       "['The Emoji Movie',\n",
       " 'Cloudy with a Chance of Meatballs 2',\n",
       " \"Doug's 1st Movie\",\n",
       " 'Despicable Me 2',\n",
       " 'Frankenweenie']"
      ]
     },
     "execution_count": 5,
     "metadata": {},
     "output_type": "execute_result"
    }
   ],
   "source": [
    "recommendations"
   ]
  },
  {
   "cell_type": "code",
   "execution_count": null,
   "id": "697484df",
   "metadata": {},
   "outputs": [],
   "source": []
  }
 ],
 "metadata": {
  "kernelspec": {
   "display_name": "base",
   "language": "python",
   "name": "python3"
  },
  "language_info": {
   "codemirror_mode": {
    "name": "ipython",
    "version": 3
   },
   "file_extension": ".py",
   "mimetype": "text/x-python",
   "name": "python",
   "nbconvert_exporter": "python",
   "pygments_lexer": "ipython3",
   "version": "3.12.7"
  }
 },
 "nbformat": 4,
 "nbformat_minor": 5
}
